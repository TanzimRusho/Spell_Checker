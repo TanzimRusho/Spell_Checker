{
  "nbformat": 4,
  "nbformat_minor": 0,
  "metadata": {
    "colab": {
      "name": "spellchecker.ipynb",
      "provenance": [],
      "authorship_tag": "ABX9TyOa/52hM+go+Rgec+bsNHiX",
      "include_colab_link": true
    },
    "kernelspec": {
      "name": "python3",
      "display_name": "Python 3"
    }
  },
  "cells": [
    {
      "cell_type": "markdown",
      "metadata": {
        "id": "view-in-github",
        "colab_type": "text"
      },
      "source": [
        "<a href=\"https://colab.research.google.com/github/TanzimRusho/Spell_Checker/blob/main/spellchecker.ipynb\" target=\"_parent\"><img src=\"https://colab.research.google.com/assets/colab-badge.svg\" alt=\"Open In Colab\"/></a>"
      ]
    },
    {
      "cell_type": "code",
      "metadata": {
        "id": "ZmWFaD5LSpCG",
        "colab": {
          "base_uri": "https://localhost:8080/"
        },
        "outputId": "76fc6ae6-1b1a-40cd-f86c-5e9ec71cfe8b"
      },
      "source": [
        "from textblob import TextBlob\n",
        "\n",
        "while True:\n",
        "    try:\n",
        "        a = input() # incorrect spelling as \"caled\", \"phoje\" etc\n",
        "        print(\"original text: \" + str(a))\n",
        "\n",
        "        b = TextBlob(a)\n",
        "\n",
        "        # corrected spelling\n",
        "        print(\"corrected text: \" + str(b.correct()))\n",
        "\n",
        "    except EOFError:\n",
        "        break"
      ],
      "execution_count": null,
      "outputs": [
        {
          "output_type": "stream",
          "text": [
            "caled\n",
            "original text: caled\n",
            "corrected text: called\n",
            "phoje\n",
            "original text: phoje\n",
            "corrected text: phone\n",
            "\u0004\n"
          ],
          "name": "stdout"
        }
      ]
    }
  ]
}